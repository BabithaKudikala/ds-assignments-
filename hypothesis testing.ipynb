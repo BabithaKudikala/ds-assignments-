# -*- coding: utf-8 -*-

# 1 
 """A F&B manager wants to determine whether there is any significant difference
 in the diameter of the cutlet between two units. A randomly selected sample 
 of cutlets was collected from both units and measured? Analyze the data and 
 draw inferences at 5% significance level. Please state the assumptions and 
 tests that you carried out to check validity of the assumptions."""


#H0 : there is no significant difference b/w the diameter of the cutlet 
#H1 : there is a significant difference b/w the diameter of the cutlet 

import pandas as pd
df = pd.read_csv("Cutlets.csv")
df
df["Unit A"].mean()
df["Unit B"].mean()

from scipy import stats
zcalc ,pval = stats.ttest_ind( df["Unit A"] , df["Unit B"]) 

pval = 0.4722394724599501


print("Zcalcualted value is ",zcalc.round(4))
print("P-value is ",pval.round(4))

if pval<0.05:
    print("reject null hypothesis, Accept Alternative hypothesis")
else:
    print("accept null hypothesis, Reject Alternative hypothesis")

""" therefore pval < 0.05 , so we accept null hypothesis and we 
reject alternate hypothesis i.e h0 is accepted h1 is rejected """






#####################################################################################

#2
""" A hospital wants to determine whether there is any difference in the average
   Turn Around Time (TAT) of reports of the laboratories on their preferred list. 
   They collected a random sample and recorded TAT for reports of 4 laboratories. 
   TAT is defined as sample collected to report dispatch.
   
  Analyze the data and determine whether there is any difference in average TAT 
  among the different laboratories at 5% significance level."""


#h0 = there is no difference in  average tat among the laboratories 
#h1 = there is a difference in average tat among the laboratories 

import pandas as pd
df=pd.read_csv('LabTAT.csv')
df


from scipy import stats
zcal, pval,f,jk=stats.chi2_contingency(df)
print(zcal, pval)


if pval<0.05:
    print("reject null hypothesis, Accept Alternative hypothesis")
else:
    print("accept null hypothesis, Reject Alternative hypothesis")


""" therefore pval < 0.05 , so we accept null hypothesis and we 
reject alternate hypothesis i.e h0 is accepted h1 is rejected """




####################################################################################

#3
"""Sales of products in four different regions is tabulated for males and 
females. Find if male-female buyer rations are similar across regions."""


# H0: All proportions are equal 
# H1: Not all proportions are equal


import pandas as pd

df=pd.read_csv('BuyerRatio.csv')
df

import researchpy as rp
table,pvalue=rp.crosstab(df['East'],df['West'],test='chi-square')

pvalue

pvalue=0.1573


table,pvalue=rp.crosstab(df['East'],df['North'],test='chi-square')
pvalue

table,pvalue=rp.crosstab(df['East'],df['South'],test='chi-square')
pvalue

table,pvalue=rp.crosstab(df['West'],df['North'],test='chi-square')
pvalue


table,pvalue=rp.crosstab(df['West'],df['South'],test='chi-square')
pvalue


table,pvalue=rp.crosstab(df['North'],df['South'],test='chi-square')
pvalue

if pvalue < 0.05:
    print("reject null hypothesis, Accept Alternative hypothesis")
else:
    print("accept null hypothesis, Reject Alternative hypothesis")
    

""" since pvalue is greater than the alpha we accept null hypothesis
 and we reject alternative hypothesis i.e all the proportions are equal"""



#################################################################################

#4
"""TeleCall uses 4 centers around the globe to process customer order forms. 
They audit a certain %  of the customer order forms. Any error in order form 
renders it defective and has to be reworked before processing.  The manager
 wants to check whether the defective %  varies by centre. Please analyze the
 data at 5% significance level and help the manager draw appropriate 
 inferences """




# Ho: defective % doesnot  varies by centre.     
# H1: defective % varies by centre. 

import pandas as pd 
import numpy as np
df=pd.read_csv('Costomer+OrderForm.csv')
df


phillippines=pd.DataFrame(df['Phillippines'].value_counts())
phillippines


Indonesia=pd.DataFrame(df['Indonesia'].value_counts())
Indonesia


Malta=pd.DataFrame(df['Malta'].value_counts())
Malta


India=pd.DataFrame(df['India'].value_counts())
India

data=np.array([[280,267,271,269],[20,33,29,31]])
error_free=data[0]
defective=data[1]


from scipy import stats
zcal, pval,f,jk=stats.chi2_contingency(data)
print(zcal, pval)

if pval < 0.05:
    print('Reject Null Hypothesis and Accept Alternative Hypothesis')
else:
    print("Accept Null Hypothesis and Reject Alternative Hypothesis")
   
""" therefore , Accept Null Hypothesis and Reject Alternative Hypothesis
i.e , defective % doesnot  varies by centre."""



##############################################################################














































