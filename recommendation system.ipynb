# -*- coding: utf-8 -*-

#Build a recommender system by using cosine simillarties score.



import pandas as pd
import numpy as np
import warnings
warnings.filterwarnings('ignore')

df=pd.read_csv('book (2).csv',encoding ='iso-8859-1')
df
df.shape

df.head()

df.sort_values('User.ID')
len(df)

len(df['User.ID'].unique())

len(df['Book.Title'].unique())

df['Book.Rating'].value_counts()

df['Book.Rating'].hist()

user_df1 = df.pivot_table(index='User.ID',columns='Book.Title',values='Book.Rating')
user_df1


user_df1.fillna(0, inplace=True)
user_df1


from sklearn.metrics import pairwise_distances
user_sim1 = 1 - pairwise_distances(user_df1,metric='cosine')

user_sim1.shape

user_sim_df1 = pd.DataFrame(user_sim1)
user_sim_df1

user_sim_df1.index   = df['User.ID'].unique()
user_sim_df1.columns = df['User.ID'].unique()

user_sim_df1.head()


user_sim_df1.shape


np.fill_diagonal(user_sim1, 0)

user_sim_df1.idxmax(axis=1)[0:10]

df[(df['User.ID']==276729) | (df['User.ID']==276726)]

user_df2 = df.pivot_table(index='Book.Title',columns='User.ID',values='Book.Rating')
user_df2


user_df2.fillna(0, inplace=True)
user_df2

from sklearn.metrics import pairwise_distances
user_sim2 = 1 - pairwise_distances(user_df2,metric='cosine')

user_sim2.shape


user_sim_df2 = pd.DataFrame(user_sim2)
user_sim_df2


user_sim_df2.index   = df['Book.Title'].unique()
user_sim_df2.columns = df['Book.Title'].unique()


user_sim_df2.head()

user_sim_df2.shape

np.fill_diagonal(user_sim2, 0)

user_sim_df2.idxmax(axis=1)[0:10]


df[(df['Book.Title']=='The Mummies of Urumchi') | (df['Book.Title']=='My First Cousin Once Remo')]


#===========================================================================













