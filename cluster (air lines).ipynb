# -*- coding: utf-8 -*-

#2 
"""Perform clustering (hierarchical,K means clustering and DBSCAN) for the
 airlines data to obtain optimum number of clusters. Draw the inferences from
 the clusters obtained."""

import pandas as pd
import warnings
warnings.filterwarnings('ignore')

df=pd.read_excel('EastWestAirlines.xlsx',sheet_name=1)
df
df.shape
df.head()

X=df.iloc[:,1:].values
X.shape

get_ipython().run_line_magic('matplotlib', 'qt')
import matplotlib.pyplot as plt
plt.rcParams['figure.figsize']=(16,9)

from mpl_toolkits.mplot3d import Axes3D

fig1=plt.figure()
ax=Axes3D(fig1)
ax.scatter(X[:,0],X[:,5],X[:,9])
plt.show()

from mpl_toolkits.mplot3d import Axes3D

fig2=plt.figure()
ax=Axes3D(fig2)
ax.scatter(X[:,2],X[:,3],X[:,4])
plt.show()

from sklearn.cluster import AgglomerativeClustering

cluster1=AgglomerativeClustering(n_clusters=6,affinity='euclidean',linkage='ward')
Y1=cluster1.fit_predict(X)
Y_new1=pd.DataFrame(Y1)
Y_new1[0].value_counts()

plt.figure(figsize=(10,7))
plt.scatter(X[:,0],X[:,5],c=cluster1.labels_,cmap='rainbow')

cluster2=AgglomerativeClustering(n_clusters=6,affinity='euclidean',linkage='average')
Y2=cluster2.fit_predict(X)
Y_new2=pd.DataFrame(Y2)
Y_new2[0].value_counts()

plt.figure(figsize=(10,7))
plt.scatter(X[:,0],X[:,9],c=cluster1.labels_,cmap='rainbow')

cluster3=AgglomerativeClustering(n_clusters=6,affinity='euclidean',linkage='average')
Y3=cluster3.fit_predict(X)
Y_new3=pd.DataFrame(Y3)
Y_new3[0].value_counts()

plt.figure(figsize=(10,7))
plt.scatter(X[:,5],X[:,9],c=cluster1.labels_,cmap='rainbow')

Y_clust1=pd.DataFrame(Y1)
Y_clust1[0].value_counts()

Y_clust2=pd.DataFrame(Y2)
Y_clust2[0].value_counts()

Y_clust3=pd.DataFrame(Y3)
Y_clust3[0].value_counts()

from sklearn.cluster import KMeans
l2=[]
for i in range(1,17):
    kmeans=KMeans(n_clusters=i)
    kmeans=kmeans.fit(X)
    l2.append(kmeans.inertia_)
print(l2)

import matplotlib.pyplot as plt

plt.scatter(range(1,17),l2)
plt.plot(range(1,17),l2,color='red')
plt.show()

from sklearn.preprocessing import StandardScaler

SS=StandardScaler()
SS_X=SS.fit_transform(X)
SS_X

from sklearn.cluster import DBSCAN

dbscan=DBSCAN(eps=1,min_samples=3)
dbscan.fit(SS_X)

Y1=dbscan.labels_
Y_new1=pd.DataFrame(Y1)
Y_new1[0].value_counts()

df1=pd.concat([df,Y_new1],axis=1)
df1

df1[df1[0]==-1]

df_new1=df1[df1[0]!=-1]
df_new1.shape

Y2=dbscan.labels_
Y_new2=pd.DataFrame(Y2)
Y_new2[0].value_counts()

df1=pd.concat([df,Y_new1],axis=1)
df1

df1[df1[0]==-1]

df_new1=df1[df1[0]!=-1]
df_new1.shape

Y3=dbscan.labels_
Y_new3=pd.DataFrame(Y3)
Y_new3[0].value_counts()

df1=pd.concat([df,Y_new3],axis=1)
df1

df1[df1[0]==-1]

df_new1=df1[df1[0]!=-1]
df_new1.shape


#===========================================================================






































































