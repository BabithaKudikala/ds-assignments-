# -*- coding: utf-8 -*-


# 1) Delivery_time -> Predict delivery time using sorting time.

import numpy as np
import pandas as pd

df=pd.read_csv('delivery_time.csv')
df

X=df[['Sorting Time']]
Y=df['Delivery Time']

import matplotlib.pyplot as plt
plt.scatter(X,Y)
plt.xlabel('Sorting Time')
plt.ylabel('Delivery Time')
plt.show()

from sklearn.linear_model import LinearRegression
LR=LinearRegression()
LR.fit(X,Y)

LR.intercept_

LR.coef_

Y_pred=LR.predict(X)

import matplotlib.pyplot as plt
plt.scatter(X,Y)
plt.scatter(X,Y_pred,color='red')
plt.plot(X,Y_pred,color='black')
plt.show()


from sklearn.metrics import mean_squared_error
mse=mean_squared_error(Y,Y_pred)
print('Mean Squared Error:',mse.round(2))

rmse=np.sqrt(mse)
print('Root Mean Squared Error:',rmse.round(2))


#Hence, Simple Regression Model for prediction of delivery time using sorting time is prepared.

#----------------------------------------------------------------------------------------------


#2)Salary_hike -> Build a prediction model for Salary_hike
 

df=pd.read_csv('Salary_Data.csv')
df

Y=df['Salary']
X=df[['YearsExperience']]

import matplotlib.pyplot as plt
plt.scatter(X,Y)
plt.xlabel('YearsExperience')
plt.ylabel('Salary')
plt.show()


from sklearn.linear_model import LinearRegression

LR=LinearRegression()
LR.fit(X,Y)
LR.intercept_
LR.coef_

Y_pred=LR.predict(X)


plt.scatter(X,Y)
plt.scatter(X,Y_pred,color='red')
plt.plot(X,Y_pred,color='black')
plt.xlabel('YearsExperience')
plt.ylabel('Salary')
plt.show()

from sklearn.metrics import mean_squared_error
mse=mean_squared_error(Y,Y_pred)
print('Mean Squared Error:',mse.round(2))

rmse=np.sqrt(mse)
print('Root Mean Squared Error:',rmse.round(2))


# Hence, Simple Regression Model for prediction of Salary using YearsExperience is prepared.






















